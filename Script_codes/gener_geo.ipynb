{
 "cells": [
  {
   "cell_type": "markdown",
   "metadata": {},
   "source": [
    "Paramètres decisifs + CERCLES"
   ]
  },
  {
   "cell_type": "code",
   "execution_count": null,
   "metadata": {},
   "outputs": [],
   "source": [
    "import cv2\n",
    "import numpy as np\n",
    "import os\n",
    "\n",
    "ntot=2500\n",
    "\n",
    "# DÃ©finir les dimensions de l'image\n",
    "width = 32\n",
    "height = 32\n",
    "line=2#int(width/22)\n",
    "\n",
    "# GÃ©nÃ©rer les images avec des cercles centrÃ©s de tailles et d'orientations variables\n",
    "for i in range(ntot):\n",
    "    output_dir = \"../Datasets/Geometrie/cercles\"\n",
    "\n",
    "    # CrÃ©er le rÃ©pertoire de destination s'il n'existe pas\n",
    "    os.makedirs(output_dir, exist_ok=True)    # CrÃ©er une image vide avec un fond noir\n",
    "    # CrÃ©er une image vide avec un fond noir\n",
    "    image = np.ones((height, width, 3), dtype=np.uint8) * 255  # Fond blanc\n",
    "\n",
    "    # GÃ©nÃ©rer une taille de cercle alÃ©atoire dans le domaine de cÃ´tÃ© de dimension 1\n",
    "    circle_size = np.random.uniform(low=0.4, high=0.6)\n",
    "\n",
    "    # GÃ©nÃ©rer une orientation alÃ©atoire du cercle\n",
    "    circle_orientation = 0#np.random.uniform(low=-10 * np.pi/180, high=10 * np.pi/180)\n",
    "\n",
    "    # Calculer les coordonnÃ©es du cercle centrÃ©\n",
    "    circle_radius = int(circle_size * min(width, height) / 2)\n",
    "    var=np.random.uniform(low=-circle_radius*0.3, high=circle_radius*0.3)\n",
    "    circle_center = (int(width / 2)+var, int(height / 2)+var)\n",
    "\n",
    "    # Appliquer une rotation au cercle\n",
    "    rotation_matrix = cv2.getRotationMatrix2D(circle_center, np.degrees(circle_orientation), 1)\n",
    "    rotated_circle_center = np.matmul(np.array([[circle_center[0], circle_center[1], 1]]), rotation_matrix.T)[:, :2].astype(int).squeeze()\n",
    "\n",
    "    # Dessiner un cercle blanc sur l'image\n",
    "    cv2.circle(image, tuple(rotated_circle_center), circle_radius, (0,0,0), line)\n",
    "    \n",
    "    # Enregistrer l'image au format PNG\n",
    "    cv2.imwrite(os.path.join(output_dir, f\"cercle_{i}.png\"), image)\n",
    " \n",
    "\n",
    "\n",
    "# GÃ©nÃ©rer les images avec des carrÃ©s centrÃ©s de tailles et d'orientations variables\n",
    "\n",
    "\n",
    "\n",
    "\n"
   ]
  },
  {
   "cell_type": "markdown",
   "metadata": {},
   "source": [
    "TRIANGLES"
   ]
  },
  {
   "cell_type": "code",
   "execution_count": 2,
   "metadata": {},
   "outputs": [],
   "source": [
    "\n",
    "# GÃ©nÃ©rer les images avec des triangles centrÃ©s de tailles et d'orientations variables\n",
    "for i in range(ntot):\n",
    "    output_dir = \"../Datasets/Geometrie/triangles\"\n",
    "\n",
    "    # CrÃ©er le rÃ©pertoire de destination s'il n'existe pas\n",
    "    os.makedirs(output_dir, exist_ok=True)    # CrÃ©er une image vide avec un fond noir\n",
    "    image = np.ones((height, width, 3), dtype=np.uint8) * 255  # Fond blanc\n",
    "\n",
    "\n",
    "    # GÃ©nÃ©rer une taille de triangle alÃ©atoire dans le domaine de cÃ´tÃ© de dimension 1\n",
    "    triangle_size = np.random.uniform(low=0.4, high=0.6)\n",
    "\n",
    "    # GÃ©nÃ©rer une orientation alÃ©atoire du triangle\n",
    "    triangle_orientation = np.random.uniform(low=-60 * np.pi/180, high=60 * np.pi/180)\n",
    "\n",
    "    # Calculer les coordonnÃ©es du triangle centrÃ©\n",
    "    triangle_height = int(triangle_size * min(width, height))\n",
    "    triangle_width = int(triangle_size * min(width, height))\n",
    "    \n",
    "    triangle_points = np.array([\n",
    "        (int(width / 2), int(height / 2 - (triangle_height / 2))),\n",
    "        (int(width / 2 - (triangle_width / 2)), int(height / 2 + (triangle_height / 2))),\n",
    "        (int(width / 2 + (triangle_width / 2)), int(height / 2 + (triangle_height / 2)))\n",
    "    ])\n",
    "\n",
    "    # Appliquer une rotation au triangle\n",
    "    rotation_matrix = cv2.getRotationMatrix2D((width / 2, height / 2), np.degrees(triangle_orientation), 1)\n",
    "    rotated_triangle_points = np.matmul(np.hstack((triangle_points, np.ones((3, 1)))), rotation_matrix.T)[:, :2].astype(int)\n",
    "\n",
    "    # Dessiner un triangle blanc sur l'image\n",
    "    cv2.drawContours(image, [rotated_triangle_points], 0, (0,0,0), line)\n",
    "    \n",
    "    # Enregistrer l'image au format PNG\n",
    "    cv2.imwrite(os.path.join(output_dir, f\"triangle_{i}.png\"), image)\n",
    "    \n",
    "    \n"
   ]
  },
  {
   "cell_type": "markdown",
   "metadata": {},
   "source": [
    "CARRES"
   ]
  },
  {
   "cell_type": "code",
   "execution_count": 4,
   "metadata": {},
   "outputs": [],
   "source": [
    "for i in range(ntot):\n",
    "    output_dir = \"../Datasets/Geometrie/carres\"\n",
    "\n",
    "    # CrÃ©er le rÃ©pertoire de destination s'il n'existe pas\n",
    "    os.makedirs(output_dir, exist_ok=True)    # CrÃ©er une image vide avec un fond noir\n",
    "    \n",
    "    # CrÃ©er une image vide avec un fond noir\n",
    "    image = np.ones((height, width, 1), dtype=np.uint8) * 255  # Fond blanc\n",
    "\n",
    "    # GÃ©nÃ©rer une taille de carrÃ© alÃ©atoire dans le domaine de cÃ´tÃ© de dimension 1\n",
    "    square_size = np.random.uniform(low=0.4, high=0.6)\n",
    "\n",
    "    # GÃ©nÃ©rer une orientation alÃ©atoire du carrÃ©\n",
    "    square_orientation = np.random.uniform(low=-45 * np.pi/180, high=45 * np.pi/180)\n",
    "\n",
    "    # Calculer les coordonnÃ©es du carrÃ© centrÃ©\n",
    "    square_side = int(square_size * min(width, height))\n",
    "    square_center = (int(width / 2), int(height / 2))\n",
    "    square_pts = cv2.boxPoints(((square_center[0], square_center[1]), (square_side, square_side), np.degrees(square_orientation)))\n",
    "    square_pts = np.int0(square_pts)\n",
    "\n",
    "    # Dessiner un carrÃ© blanc sur l'image\n",
    "    cv2.drawContours(image, [square_pts], 0, (0,0,0), line)    \n",
    "    \n",
    "\n",
    "    \n",
    "    # Enregistrer l'image au format PNG\n",
    "    cv2.imwrite(os.path.join(output_dir, f\"carre_{i}.png\"), image)"
   ]
  },
  {
   "cell_type": "markdown",
   "metadata": {},
   "source": [
    "Tests d'importation"
   ]
  },
  {
   "cell_type": "code",
   "execution_count": 7,
   "metadata": {},
   "outputs": [
    {
     "name": "stdout",
     "output_type": "stream",
     "text": [
      "../Datasets/Geometrie/cercles/cercle_0.png\n"
     ]
    }
   ],
   "source": [
    "nom_fichier=\"cercle\"\n",
    "i=0\n",
    "print(\"../Datasets/Geometrie/\"+nom_fichier+\"s/\"+nom_fichier+\"_\"+str(i)+\".png\")"
   ]
  }
 ],
 "metadata": {
  "kernelspec": {
   "display_name": "base",
   "language": "python",
   "name": "python3"
  },
  "language_info": {
   "codemirror_mode": {
    "name": "ipython",
    "version": 3
   },
   "file_extension": ".py",
   "mimetype": "text/x-python",
   "name": "python",
   "nbconvert_exporter": "python",
   "pygments_lexer": "ipython3",
   "version": "3.9.16"
  },
  "orig_nbformat": 4,
  "vscode": {
   "interpreter": {
    "hash": "8ed250d3493eb5bc5d28b6283086809c1111d5a6fd62a389a907aec9f28d7abb"
   }
  }
 },
 "nbformat": 4,
 "nbformat_minor": 2
}
